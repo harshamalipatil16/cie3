{
  "nbformat": 4,
  "nbformat_minor": 0,
  "metadata": {
    "colab": {
      "provenance": [],
      "include_colab_link": true
    },
    "kernelspec": {
      "name": "python3",
      "display_name": "Python 3"
    },
    "language_info": {
      "name": "python"
    }
  },
  "cells": [
    {
      "cell_type": "markdown",
      "metadata": {
        "id": "view-in-github",
        "colab_type": "text"
      },
      "source": [
        "<a href=\"https://colab.research.google.com/github/harshamalipatil16/cie3/blob/main/cie3.ipynb\" target=\"_parent\"><img src=\"https://colab.research.google.com/assets/colab-badge.svg\" alt=\"Open In Colab\"/></a>"
      ]
    },
    {
      "cell_type": "code",
      "execution_count": 26,
      "metadata": {
        "colab": {
          "base_uri": "https://localhost:8080/"
        },
        "id": "TlmdKjQ7L-Wy",
        "outputId": "c5c55fa4-8fd0-4901-e4e1-440a11b56192"
      },
      "outputs": [
        {
          "output_type": "stream",
          "name": "stdout",
          "text": [
            "mean absolute error: 3.2781689622169963\n",
            "root mean squared error: 4.428516251926408\n",
            "mean squared error: 19.611756193576316\n",
            "mean R2 score: 0.7094556771002651\n"
          ]
        }
      ],
      "source": [
        "import pandas as pd\n",
        "import matplotlib.pyplot as plt\n",
        "import seaborn as sns\n",
        "import numpy as np\n",
        "from sklearn.model_selection import train_test_split\n",
        "from sklearn.linear_model import LinearRegression\n",
        "\n",
        "df = sns.load_dataset('mpg')\n",
        "\n",
        "df = df.dropna()\n",
        "df\n",
        "\n",
        "x = df[['weight']]\n",
        "y = df['mpg']\n",
        "\n",
        "x_train,x_test,y_train,y_test = train_test_split(x,y,test_size=0.3)\n",
        "\n",
        "model = LinearRegression().fit(x_train,y_train)\n",
        "\n",
        "y_pred = model.predict(x_test)\n",
        "\n",
        "mae = mean_absolute_error(y_test,y_pred)\n",
        "mse = mean_squared_error(y_test,y_pred)\n",
        "rmse = np.sqrt(mse)\n",
        "r2 = r2_score(y_test,y_pred)\n",
        "\n",
        "print(\"mean absolute error:\",mae)\n",
        "print(\"root mean squared error:\",rmse)\n",
        "print(\"mean squared error:\",mse)\n",
        "print(\"mean R2 score:\",r2)"
      ]
    }
  ]
}